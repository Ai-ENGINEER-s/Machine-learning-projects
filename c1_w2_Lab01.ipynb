{
 "cells": [
  {
   "cell_type": "code",
   "execution_count": 2,
   "metadata": {},
   "outputs": [],
   "source": [
    "import numpy as np \n",
    "import time "
   ]
  },
  {
   "cell_type": "code",
   "execution_count": 8,
   "metadata": {},
   "outputs": [
    {
     "name": "stdout",
     "output_type": "stream",
     "text": [
      "np.zeros(4) :   a = [0. 0. 0. 0.], a shape = (4,), a data type = float64\n",
      "np.zeros(4,) :  a = [0. 0. 0. 0.], a shape = (4,), a data type = float64\n",
      "[0.24956319 0.48558653 0.42284207 0.04639459]\n"
     ]
    }
   ],
   "source": [
    "a = np.zeros(4)\n",
    "print(f\"np.zeros(4) :   a = {a}, a shape = {a.shape}, a data type = {a.dtype}\")\n",
    "a = np.zeros((4,));             print(f\"np.zeros(4,) :  a = {a}, a shape = {a.shape}, a data type = {a.dtype}\")\n",
    "\n",
    "a = np.random.random_sample(4)\n",
    "print(f\"{a}\")"
   ]
  },
  {
   "cell_type": "code",
   "execution_count": 17,
   "metadata": {},
   "outputs": [
    {
     "name": "stdout",
     "output_type": "stream",
     "text": [
      "[23 24 25 26 27 28 29 30 31 32 33 34 35 36 37 38 39 40 41 42 43 44 45 46\n",
      " 47 48 49 50 51 52 53 54 55 56 57 58 59 60 61 62 63 64 65 66 67 68 69 70\n",
      " 71 72 73 74 75 76 77]\n",
      "this is a random list [23.64639808 98.49357037 15.58584363 44.11113009 19.51486121 24.15420751\n",
      "  5.02983424  9.2310688  91.45213129 49.13313808]%\n"
     ]
    }
   ],
   "source": [
    "a = np.arange(23, 78); print(f\"{a}\")\n",
    "random_number = np.random.rand(10)*100\n",
    "print(f\"this is a random list {random_number}\")"
   ]
  },
  {
   "cell_type": "markdown",
   "metadata": {},
   "source": [
    "values can be specified manually as well. "
   ]
  },
  {
   "cell_type": "code",
   "execution_count": 18,
   "metadata": {},
   "outputs": [
    {
     "name": "stdout",
     "output_type": "stream",
     "text": [
      "np.array([5,4,3,2]):  a = [5 4 3 2],     a shape = (4,), a data type = int64\n",
      "np.array([5.,4,3,2]): a = [5. 4. 3. 2.], a shape = (4,), a data type = float64\n"
     ]
    }
   ],
   "source": [
    "# NumPy routines which allocate memory and fill with user specified values\n",
    "a = np.array([5,4,3,2]);  print(f\"np.array([5,4,3,2]):  a = {a},     a shape = {a.shape}, a data type = {a.dtype}\")\n",
    "a = np.array([5.,4,3,2]); print(f\"np.array([5.,4,3,2]): a = {a}, a shape = {a.shape}, a data type = {a.dtype}\")"
   ]
  },
  {
   "cell_type": "code",
   "execution_count": 19,
   "metadata": {},
   "outputs": [
    {
     "name": "stdout",
     "output_type": "stream",
     "text": [
      "values of list_1 : [ 4  5 12 36]\n",
      "values of list_2 : [ 86 778  12  45]\n",
      "sum of two list [ 90 783  24  81]\n"
     ]
    }
   ],
   "source": [
    "list_1 = np.array([4,5,12,36])\n",
    "list_2 = np.array([86,778,12,45])\n",
    "print(f\"values of list_1 : {list_1}\")\n",
    "print(f\"values of list_2 : {list_2}\")\n",
    "sum_of_list_1_to_list_2 = list_2 + list_1\n",
    "\n",
    "print(f\"sum of two list {sum_of_list_1_to_list_2}\")\n"
   ]
  },
  {
   "cell_type": "markdown",
   "metadata": {},
   "source": [
    "# 3.4 Operations on Vectors \n",
    "\n",
    "Let's explore some operations using vectors \n",
    "\n",
    "\n",
    "# 3.4.1 Indexing\n",
    "\n",
    "Elements of vectors can be accessed via indexing and slicing. NumPy provides a very complete set of indexing and slicing capabilities. We will explore only the basics needed for the course here. Reference Slicing and Indexing for more details.\n",
    "Indexing means referring to an element of an array by its position within the array.\n",
    "Slicing means getting a subset of elements from an array based on their indices.\n",
    "NumPy starts indexing at zero so the 3rd element of an vector  𝐚\n",
    "  is a[2]."
   ]
  },
  {
   "cell_type": "code",
   "execution_count": 28,
   "metadata": {},
   "outputs": [
    {
     "name": "stdout",
     "output_type": "stream",
     "text": [
      "() a[2]= 2\n",
      "the error message you'll see is :\n",
      "index 10 is out of bounds for axis 0 with size 10\n"
     ]
    }
   ],
   "source": [
    "a = np.arange(10)\n",
    "b = a[2]\n",
    "print(f\"{a[2].shape} a[2]= {b}\")\n",
    "try:\n",
    "    c=a[10]\n",
    "except Exception as e :\n",
    "    print(\"the error message you'll see is :\")\n",
    "    print(e)"
   ]
  },
  {
   "cell_type": "markdown",
   "metadata": {},
   "source": [
    "## 3.4.2 Slicing\n",
    "\n",
    "Slicing creates an array of indices using a set of three values (start:stop:step). A subset of values is also valid. Its use is best explained by example"
   ]
  },
  {
   "cell_type": "code",
   "execution_count": 33,
   "metadata": {},
   "outputs": [
    {
     "name": "stdout",
     "output_type": "stream",
     "text": [
      "a      = [0 1 2 3 4 5 6 7 8 9]\n",
      "a[2:7:2] [2 4 6]\n",
      "a[3:] =  [3 4 5 6 7 8 9]\n",
      "all elements of a :   [0 1 2 3 4 5 6 7 8 9]\n"
     ]
    }
   ],
   "source": [
    "# vector slicing operator \n",
    "\n",
    "a = np.arange(10)\n",
    "print(f\"a      = {a}\") \n",
    "\n",
    "# access 3 elements separated by two : \n",
    "c = a[2:7:2] ; print(\"a[2:7:2]\",c)\n",
    "# access all elements below index 3 \n",
    "\n",
    "c=a[3:]; print(\"a[3:] = \",c )\n",
    "# access all elements \n",
    "\n",
    "all_elements = a[:] ; print(\"all elements of a :  \",all_elements )"
   ]
  },
  {
   "cell_type": "markdown",
   "metadata": {},
   "source": [
    "# 3.4.3 Single vector operations\n",
    "There are a number of useful operations that involve operations on a single vector."
   ]
  },
  {
   "cell_type": "code",
   "execution_count": 39,
   "metadata": {},
   "outputs": [
    {
     "name": "stdout",
     "output_type": "stream",
     "text": [
      "negatif elements of a : [ -1  -2  -3  -5  -8 -63]\n",
      "somme of all elements of a : 82\n",
      "mean of elements a is :  13\n",
      "tous les elements de a elevés au carré est :  [   1    4    9   25   64 3969]\n"
     ]
    }
   ],
   "source": [
    "a = np.array([1,2,3,5,8,63])\n",
    "\n",
    "# negate elements of a \n",
    "\n",
    "negatif_of_a = -a \n",
    "\n",
    "print(f\"negatif elements of a : {negatif_of_a}\")\n",
    "\n",
    "# sum all elements of a , returns a scalar \n",
    "\n",
    "sum_of_a = np.sum(a)\n",
    "print(f\"somme of all elements of a : {sum_of_a}\")\n",
    "\n",
    "# let's calculate the mean of a \n",
    "\n",
    "mean_of_a = int(np.mean(a))\n",
    "print(\"mean of elements a is : \", mean_of_a)\n",
    "\n",
    "# let's elevate a in square \n",
    "\n",
    "a_carré = a**2 \n",
    "\n",
    "print(\"tous les elements de a elevés au carré est : \", a_carré)"
   ]
  },
  {
   "cell_type": "markdown",
   "metadata": {},
   "source": [
    "### 3.4.4 Vector Vector element-wise operations\n",
    "Most of the NumPy arithmetic, logical and comparison operations apply to vectors as well. These operators work on an element-by-element basis. For example \n",
    "$$ c_i = a_i + b_i $$"
   ]
  },
  {
   "cell_type": "code",
   "execution_count": 43,
   "metadata": {},
   "outputs": [
    {
     "name": "stdout",
     "output_type": "stream",
     "text": [
      "sum of vector1 + vector2 =  [ 75 170  46 134]\n",
      "substraction  of vector1 and vector2 =  [-73   0   0  44]\n",
      "division of vector1 / vector2 =  [0.01351351 1.         1.         1.97777778]\n",
      "multiplication of vector1 and  vector2 =  [  74 7225  529 4005]\n",
      "The error message you'll see is :\n",
      "operands could not be broadcast together with shapes (6,) (2,) \n"
     ]
    }
   ],
   "source": [
    "vector_1 = np.array([1,85,23,89])\n",
    "vector_2 = np.array([74,85,23,45])\n",
    "\n",
    "# addition \n",
    "print(f\"sum of vector1 + vector2 = \", (vector_1 +vector_2))\n",
    "# substraction \n",
    "print(f\"substraction  of vector1 and vector2 = \", (vector_1 - vector_2))\n",
    "# division \n",
    "print(f\"division of vector1 / vector2 = \", (vector_1  / vector_2))\n",
    "# multiplication  \n",
    "\n",
    "print(f\"multiplication of vector1 and  vector2 = \", (vector_1  * vector_2))\n",
    "\n",
    "\n",
    "# Remark the vector must be the same size \n",
    "\n",
    "c = np.array([1,56])\n",
    "try :\n",
    "    d = a +c \n",
    "except Exception as e : \n",
    "    print(\"The error message you'll see is :\")\n",
    "    print(e)"
   ]
  },
  {
   "cell_type": "markdown",
   "metadata": {},
   "source": [
    "### 3.4.5 Scalar Vector operations\n",
    "Vectors can be 'scaled' by scalar values. A scalar value is just a number. The scalar multiplies all the elements of the vector."
   ]
  },
  {
   "cell_type": "code",
   "execution_count": 44,
   "metadata": {},
   "outputs": [
    {
     "name": "stdout",
     "output_type": "stream",
     "text": [
      "la valeur du produit scalaire du vecteur a est :  [100 800 300 600]\n"
     ]
    }
   ],
   "source": [
    "# le produit scalaire sur les vecteurs \n",
    "\n",
    "scalar_number = 100\n",
    "\n",
    "a = np.array([1,8,3,6])\n",
    "\n",
    "# multiply a by a scalar \n",
    "\n",
    "b = a*scalar_number \n",
    "\n",
    "print(\"la valeur du produit scalaire du vecteur a est : \", b)\n",
    "\n"
   ]
  },
  {
   "cell_type": "markdown",
   "metadata": {},
   "source": [
    "# 3.4.6 Vector Vector dot product\n",
    "\n",
    "The dot product is a mainstay of Linear Algebra and NumPy. This is an operation used extensively in this course and should be well understood. The dot product is shown below"
   ]
  },
  {
   "cell_type": "code",
   "execution_count": 45,
   "metadata": {},
   "outputs": [],
   "source": [
    "# le produit scalaire vectoriel multiplie les elements de deux vecteurs et les additionne entre eux . \n",
    "\n",
    "def my_dot(a, b):\n",
    "    \"\"\"\n",
    "    Compute the dot product of two vectors \n",
    "\n",
    "    Arg :\n",
    "\n",
    "    a : input vector \n",
    "    b : second input vector , all with the same size \n",
    "    \n",
    "    \"\"\"\n",
    "\n",
    "    x = 0\n",
    "    for i in range(a.shape[0]):\n",
    "        x = x + a[i]*b[i]\n",
    "    return x "
   ]
  },
  {
   "cell_type": "code",
   "execution_count": 46,
   "metadata": {},
   "outputs": [
    {
     "name": "stdout",
     "output_type": "stream",
     "text": [
      "my_dot(a,b) = 404\n"
     ]
    }
   ],
   "source": [
    "# test 1-D \n",
    "\n",
    "a = np.array([1,2,3,4])\n",
    "b = np.array([-1,89,45,23])\n",
    "print(f\"my_dot(a,b) = {my_dot(a,b)}\")"
   ]
  },
  {
   "cell_type": "code",
   "execution_count": 47,
   "metadata": {},
   "outputs": [
    {
     "name": "stdout",
     "output_type": "stream",
     "text": [
      "[ -1 178 135  92]\n",
      "404\n"
     ]
    }
   ],
   "source": [
    "c = a *b \n",
    "print(c)\n",
    "g = sum(c)\n",
    "print(g)"
   ]
  },
  {
   "cell_type": "markdown",
   "metadata": {},
   "source": [
    "### 3.4.7 The Need for Speed: vector vs for loop\n",
    "We utilized the NumPy  library because it improves speed memory efficiency. Let's demonstrate:"
   ]
  },
  {
   "cell_type": "code",
   "execution_count": 56,
   "metadata": {},
   "outputs": [
    {
     "name": "stdout",
     "output_type": "stream",
     "text": [
      "np.dot(a,b )= 2501072.581681\n",
      "Vectorized version duration : 32.3596 ms\n",
      "my_dot(a, b)= 2501072.581681\n",
      "loop version duration : 3299.5703 ms\n"
     ]
    }
   ],
   "source": [
    "np.random.seed(1)\n",
    "a = np.random.rand(10000000)  # very large arrays\n",
    "b = np.random.rand(10000000)\n",
    "\n",
    "\n",
    "tic = time.time()\n",
    "c = np.dot(a,b)\n",
    "toc = time.time()\n",
    "print(f\"np.dot(a,b )= {c:4f}\")\n",
    "print(f\"Vectorized version duration : {1000 * (toc - tic ):.4f} ms\")\n",
    "\n",
    "tic = time.time()\n",
    "c = my_dot(a,b )\n",
    "toc = time.time()\n",
    "\n",
    "print(f\"my_dot(a, b)= {c:4f}\")\n",
    "print(f\"loop version duration : {1000 * (toc -tic ):.4f} ms\")\n",
    "del(a); del(b)"
   ]
  },
  {
   "cell_type": "code",
   "execution_count": 57,
   "metadata": {},
   "outputs": [
    {
     "name": "stdout",
     "output_type": "stream",
     "text": [
      "X[1] has shape (1,)\n",
      "w has shape (1,)\n",
      "c has shape ()\n"
     ]
    }
   ],
   "source": [
    "# show common Course 1 example\n",
    "X = np.array([[1],[2],[3],[4]])\n",
    "w = np.array([2])\n",
    "c = np.dot(X[1], w)\n",
    "\n",
    "print(f\"X[1] has shape {X[1].shape}\")\n",
    "print(f\"w has shape {w.shape}\")\n",
    "print(f\"c has shape {c.shape}\")"
   ]
  },
  {
   "cell_type": "markdown",
   "metadata": {},
   "source": [
    "# Matrices \n",
    "\n",
    "## 4.1 Abstract\n",
    "\n",
    "Matrices, are two dimensional arrays. The elements of a matrix are all of the same type. In notation, matrices are denoted with capitol, bold letter such as $\\mathbf{X}$. In this and other labs, `m` is often the number of rows and `n` the number of columns. The elements of a matrix can be referenced with a two dimensional index. In math settings, numbers in the index typically run from 1 to n. In computer science and these labs, indexing will run from 0 to n-1. "
   ]
  },
  {
   "cell_type": "code",
   "execution_count": 58,
   "metadata": {},
   "outputs": [
    {
     "name": "stdout",
     "output_type": "stream",
     "text": [
      "a shape = (1, 5), a = [[0. 0. 0. 0. 0.]]\n",
      "a shape = (2, 1), a = [[0.]\n",
      " [0.]]\n",
      "a shape = (1, 1), a = [[0.44236513]]\n"
     ]
    }
   ],
   "source": [
    "a = np.zeros((1, 5))                                       \n",
    "print(f\"a shape = {a.shape}, a = {a}\")                     \n",
    "\n",
    "a = np.zeros((2, 1))                                                                   \n",
    "print(f\"a shape = {a.shape}, a = {a}\") \n",
    "\n",
    "a = np.random.random_sample((1, 1))  \n",
    "print(f\"a shape = {a.shape}, a = {a}\") "
   ]
  },
  {
   "cell_type": "code",
   "execution_count": 62,
   "metadata": {},
   "outputs": [
    {
     "name": "stdout",
     "output_type": "stream",
     "text": [
      "(2, 3)\n",
      "la transposition de la matrice M donne comme resultat celui-ci :  [[1 7]\n",
      " [5 8]\n",
      " [8 9]]\n"
     ]
    }
   ],
   "source": [
    "M = np.array([[1,5,8],[7,8,9]])\n",
    "print(M.shape)\n",
    "\n",
    "\n",
    "# Transposition \n",
    "print(\"la transposition de la matrice M donne comme resultat celui-ci : \", M.T)"
   ]
  },
  {
   "cell_type": "code",
   "execution_count": 63,
   "metadata": {},
   "outputs": [
    {
     "name": "stdout",
     "output_type": "stream",
     "text": [
      " a shape = (3, 1), np.array: a = [[5]\n",
      " [4]\n",
      " [3]]\n",
      " a shape = (3, 1), np.array: a = [[5]\n",
      " [4]\n",
      " [3]]\n"
     ]
    }
   ],
   "source": [
    "# NumPy routines which allocate memory and fill with user specified values\n",
    "a = np.array([[5], [4], [3]]);   print(f\" a shape = {a.shape}, np.array: a = {a}\")\n",
    "a = np.array([[5],   # One can also\n",
    "              [4],   # separate values\n",
    "              [3]]); #into separate rows\n",
    "print(f\" a shape = {a.shape}, np.array: a = {a}\")"
   ]
  },
  {
   "cell_type": "markdown",
   "metadata": {},
   "source": [
    "## 4.4 Operations on Matrices\n",
    "Let's explore some operations using matrices."
   ]
  },
  {
   "cell_type": "markdown",
   "metadata": {},
   "source": [
    "### 4.4.1 Indexing\n",
    "\n",
    "Matrices include a second index. The two indexes describe [row, column]. Access can either return an element or a row/column. See below\n"
   ]
  },
  {
   "cell_type": "code",
   "execution_count": 64,
   "metadata": {},
   "outputs": [
    {
     "name": "stdout",
     "output_type": "stream",
     "text": [
      "a.shape: (3, 2), \n",
      "a= [[0 1]\n",
      " [2 3]\n",
      " [4 5]]\n"
     ]
    }
   ],
   "source": [
    "a = np.arange(6).reshape(-1,2)\n",
    "print(f\"a.shape: {a.shape}, \\na= {a}\")"
   ]
  },
  {
   "cell_type": "code",
   "execution_count": 65,
   "metadata": {},
   "outputs": [
    {
     "name": "stdout",
     "output_type": "stream",
     "text": [
      "a = \n",
      "[[ 0  1  2  3  4  5  6  7  8  9]\n",
      " [10 11 12 13 14 15 16 17 18 19]]\n",
      "a[0, 2:7:1] =  [2 3 4 5 6] ,  a[0, 2:7:1].shape = (5,) a 1-D array\n",
      "a[:, 2:7:1] = \n",
      " [[ 2  3  4  5  6]\n",
      " [12 13 14 15 16]] ,  a[:, 2:7:1].shape = (2, 5) a 2-D array\n",
      "a[:,:] = \n",
      " [[ 0  1  2  3  4  5  6  7  8  9]\n",
      " [10 11 12 13 14 15 16 17 18 19]] ,  a[:,:].shape = (2, 10)\n",
      "a[1,:] =  [10 11 12 13 14 15 16 17 18 19] ,  a[1,:].shape = (10,) a 1-D array\n",
      "a[1]   =  [10 11 12 13 14 15 16 17 18 19] ,  a[1].shape   = (10,) a 1-D array\n"
     ]
    }
   ],
   "source": [
    "#vector 2-D slicing operations\n",
    "a = np.arange(20).reshape(-1, 10)\n",
    "print(f\"a = \\n{a}\")\n",
    "\n",
    "#access 5 consecutive elements (start:stop:step)\n",
    "print(\"a[0, 2:7:1] = \", a[0, 2:7:1], \",  a[0, 2:7:1].shape =\", a[0, 2:7:1].shape, \"a 1-D array\")\n",
    "\n",
    "#access 5 consecutive elements (start:stop:step) in two rows\n",
    "print(\"a[:, 2:7:1] = \\n\", a[:, 2:7:1], \",  a[:, 2:7:1].shape =\", a[:, 2:7:1].shape, \"a 2-D array\")\n",
    "\n",
    "# access all elements\n",
    "print(\"a[:,:] = \\n\", a[:,:], \",  a[:,:].shape =\", a[:,:].shape)\n",
    "\n",
    "# access all elements in one row (very common usage)\n",
    "print(\"a[1,:] = \", a[1,:], \",  a[1,:].shape =\", a[1,:].shape, \"a 1-D array\")\n",
    "# same as\n",
    "print(\"a[1]   = \", a[1],   \",  a[1].shape   =\", a[1].shape, \"a 1-D array\")"
   ]
  },
  {
   "cell_type": "code",
   "execution_count": 68,
   "metadata": {},
   "outputs": [
    {
     "name": "stdout",
     "output_type": "stream",
     "text": [
      "[[ 1  2  5]\n",
      " [ 8 45 78]\n",
      " [10 78 56]]\n"
     ]
    }
   ],
   "source": [
    "M = np.array([\n",
    "[1,2,5], \n",
    "[8,45,78], \n",
    "\n",
    "[10,78,56]\n",
    "\n",
    "])\n",
    "print(M)"
   ]
  },
  {
   "cell_type": "code",
   "execution_count": null,
   "metadata": {},
   "outputs": [],
   "source": []
  },
  {
   "cell_type": "code",
   "execution_count": 71,
   "metadata": {},
   "outputs": [
    {
     "name": "stdout",
     "output_type": "stream",
     "text": [
      "[[ 1  2]\n",
      " [ 8 45]\n",
      " [10 78]]\n"
     ]
    }
   ],
   "source": [
    "sub_matrix = M[0:3, 0:2]\n",
    "print(sub_matrix)"
   ]
  },
  {
   "cell_type": "code",
   "execution_count": 73,
   "metadata": {},
   "outputs": [
    {
     "name": "stdout",
     "output_type": "stream",
     "text": [
      "[ 8 45 78]\n"
     ]
    }
   ],
   "source": [
    "# acceder a une ligne specifique \n",
    "\n",
    "second_row = M[1,:]\n",
    "print(second_row)"
   ]
  },
  {
   "cell_type": "code",
   "execution_count": 74,
   "metadata": {},
   "outputs": [
    {
     "name": "stdout",
     "output_type": "stream",
     "text": [
      "les elements de la 3eme colonne  [ 5 78 56]\n"
     ]
    }
   ],
   "source": [
    "# acceder a une colonne specifique \n",
    "\n",
    "\n",
    "third_column = M[:,2]\n",
    "print(\"les elements de la 3eme colonne \", third_column)"
   ]
  },
  {
   "cell_type": "code",
   "execution_count": 75,
   "metadata": {},
   "outputs": [
    {
     "name": "stdout",
     "output_type": "stream",
     "text": [
      "affiche l'elemnent  78\n"
     ]
    }
   ],
   "source": [
    "# Acceder a un element spécifique \n",
    "\n",
    "element = M[1, 2]\n",
    "print(\"affiche l'elemnent \", element)"
   ]
  },
  {
   "cell_type": "code",
   "execution_count": 77,
   "metadata": {},
   "outputs": [
    {
     "name": "stdout",
     "output_type": "stream",
     "text": [
      "[[ 1  5]\n",
      " [10 56]]\n",
      "[[ 1  2  5]\n",
      " [ 8 45 78]\n",
      " [10 78 56]]\n"
     ]
    }
   ],
   "source": [
    "step_matrix = M[::2, ::2]\n",
    "print(step_matrix)\n",
    "print(M)"
   ]
  },
  {
   "cell_type": "code",
   "execution_count": 78,
   "metadata": {},
   "outputs": [
    {
     "name": "stdout",
     "output_type": "stream",
     "text": [
      "[0 2 4 6 8]\n"
     ]
    }
   ],
   "source": [
    "a = np.arange(10)\n",
    "b = a[::2]\n",
    "print(b)"
   ]
  },
  {
   "cell_type": "code",
   "execution_count": null,
   "metadata": {},
   "outputs": [],
   "source": []
  }
 ],
 "metadata": {
  "kernelspec": {
   "display_name": ".env",
   "language": "python",
   "name": "python3"
  },
  "language_info": {
   "codemirror_mode": {
    "name": "ipython",
    "version": 3
   },
   "file_extension": ".py",
   "mimetype": "text/x-python",
   "name": "python",
   "nbconvert_exporter": "python",
   "pygments_lexer": "ipython3",
   "version": "3.11.5"
  }
 },
 "nbformat": 4,
 "nbformat_minor": 2
}
